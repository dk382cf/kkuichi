{
 "cells": [
  {
   "cell_type": "markdown",
   "id": "c1ae4e9b-4881-4daf-8c98-8d27f52d7837",
   "metadata": {},
   "source": [
    "Ako prvé je potrebné importovanie knižníc, ktoré budeme potrebovať v našej práci. Importujeme knižnice pandas, seaborn a priradíme im označenie, ktoré budeme písať, ak budeme nejakú z knižníc potrebovať. Ako ďalej si imprujeme modul pyplot z knižnice matplotlib a priradíme mu označenie plt. Ďalej budeme potrebovať importovať LabelEncoder z modulu preprocessing spadajúc do knižnice sklearn. Z knižnice sklearn budeme potrebovať aj KMeans pre klastrovanie."
   ]
  },
  {
   "cell_type": "code",
   "execution_count": 33,
   "id": "030afac6-ec0a-4e03-bb8b-f57c92cc30e4",
   "metadata": {},
   "outputs": [],
   "source": [
    "import pandas as pd\n",
    "import seaborn as sns\n",
    "from matplotlib import pyplot as plt\n",
    "\n",
    "from sklearn.preprocessing import LabelEncoder\n",
    "from sklearn.cluster import KMeans"
   ]
  },
  {
   "cell_type": "markdown",
   "id": "e3748fb7-b82f-45b4-8650-d226fe85c705",
   "metadata": {},
   "source": [
    "Na načítanie datasetu použijeme funkciu read_csv z knižnice pandas, kde načítame dataset data.csv. Dataset uložíme do premennej df."
   ]
  },
  {
   "cell_type": "code",
   "execution_count": 34,
   "id": "7a90cf20-b638-4b1c-9bc7-5dcaa09f014e",
   "metadata": {},
   "outputs": [],
   "source": [
    "df = pd.read_csv('data.csv')"
   ]
  },
  {
   "cell_type": "markdown",
   "id": "1f84e565-669d-42f5-beae-2ebb9b603d02",
   "metadata": {},
   "source": [
    "Pre výpis základných informácií o datasete použijeme funkciu info(), kde dostávame informácie ako názvy atribút, ich počet a dátový typ."
   ]
  },
  {
   "cell_type": "code",
   "execution_count": 35,
   "id": "d39fb71a-efd4-413d-9a45-8aefe1a7bb04",
   "metadata": {
    "tags": []
   },
   "outputs": [
    {
     "name": "stdout",
     "output_type": "stream",
     "text": [
      "<class 'pandas.core.frame.DataFrame'>\n",
      "RangeIndex: 7043 entries, 0 to 7042\n",
      "Data columns (total 38 columns):\n",
      " #   Column                             Non-Null Count  Dtype  \n",
      "---  ------                             --------------  -----  \n",
      " 0   Customer ID                        7043 non-null   object \n",
      " 1   Gender                             7043 non-null   object \n",
      " 2   Age                                7043 non-null   int64  \n",
      " 3   Married                            7043 non-null   object \n",
      " 4   Number of Dependents               7043 non-null   int64  \n",
      " 5   City                               7043 non-null   object \n",
      " 6   Zip Code                           7043 non-null   int64  \n",
      " 7   Latitude                           7043 non-null   float64\n",
      " 8   Longitude                          7043 non-null   float64\n",
      " 9   Number of Referrals                7043 non-null   int64  \n",
      " 10  Tenure in Months                   7043 non-null   int64  \n",
      " 11  Offer                              7043 non-null   object \n",
      " 12  Phone Service                      7043 non-null   object \n",
      " 13  Avg Monthly Long Distance Charges  6361 non-null   float64\n",
      " 14  Multiple Lines                     6361 non-null   object \n",
      " 15  Internet Service                   7043 non-null   object \n",
      " 16  Internet Type                      5517 non-null   object \n",
      " 17  Avg Monthly GB Download            5517 non-null   float64\n",
      " 18  Online Security                    5517 non-null   object \n",
      " 19  Online Backup                      5517 non-null   object \n",
      " 20  Device Protection Plan             5517 non-null   object \n",
      " 21  Premium Tech Support               5517 non-null   object \n",
      " 22  Streaming TV                       5517 non-null   object \n",
      " 23  Streaming Movies                   5517 non-null   object \n",
      " 24  Streaming Music                    5517 non-null   object \n",
      " 25  Unlimited Data                     5517 non-null   object \n",
      " 26  Contract                           7043 non-null   object \n",
      " 27  Paperless Billing                  7043 non-null   object \n",
      " 28  Payment Method                     7043 non-null   object \n",
      " 29  Monthly Charge                     7043 non-null   float64\n",
      " 30  Total Charges                      7043 non-null   float64\n",
      " 31  Total Refunds                      7043 non-null   float64\n",
      " 32  Total Extra Data Charges           7043 non-null   int64  \n",
      " 33  Total Long Distance Charges        7043 non-null   float64\n",
      " 34  Total Revenue                      7043 non-null   float64\n",
      " 35  Customer Status                    7043 non-null   object \n",
      " 36  Churn Category                     1869 non-null   object \n",
      " 37  Churn Reason                       1869 non-null   object \n",
      "dtypes: float64(9), int64(6), object(23)\n",
      "memory usage: 2.0+ MB\n"
     ]
    }
   ],
   "source": [
    "df.info()"
   ]
  },
  {
   "cell_type": "markdown",
   "id": "4de8525c-36a2-4737-b6cd-47419990f96a",
   "metadata": {},
   "source": [
    "Pre získanie počtu chýbajúcich hodnôt použijeme funkciu isna(), ktorá vratia hodnotu True ak hodnota chýba a hodnotu False ak nechýba. Implementáciou funkcie sum() získame počet chýbajúcich hodnôt pre každý stĺpec."
   ]
  },
  {
   "cell_type": "code",
   "execution_count": 36,
   "id": "97537c91-b9e4-4bb5-b3f1-758b5604644c",
   "metadata": {
    "tags": []
   },
   "outputs": [
    {
     "data": {
      "text/plain": [
       "Customer ID                             0\n",
       "Gender                                  0\n",
       "Age                                     0\n",
       "Married                                 0\n",
       "Number of Dependents                    0\n",
       "City                                    0\n",
       "Zip Code                                0\n",
       "Latitude                                0\n",
       "Longitude                               0\n",
       "Number of Referrals                     0\n",
       "Tenure in Months                        0\n",
       "Offer                                   0\n",
       "Phone Service                           0\n",
       "Avg Monthly Long Distance Charges     682\n",
       "Multiple Lines                        682\n",
       "Internet Service                        0\n",
       "Internet Type                        1526\n",
       "Avg Monthly GB Download              1526\n",
       "Online Security                      1526\n",
       "Online Backup                        1526\n",
       "Device Protection Plan               1526\n",
       "Premium Tech Support                 1526\n",
       "Streaming TV                         1526\n",
       "Streaming Movies                     1526\n",
       "Streaming Music                      1526\n",
       "Unlimited Data                       1526\n",
       "Contract                                0\n",
       "Paperless Billing                       0\n",
       "Payment Method                          0\n",
       "Monthly Charge                          0\n",
       "Total Charges                           0\n",
       "Total Refunds                           0\n",
       "Total Extra Data Charges                0\n",
       "Total Long Distance Charges             0\n",
       "Total Revenue                           0\n",
       "Customer Status                         0\n",
       "Churn Category                       5174\n",
       "Churn Reason                         5174\n",
       "dtype: int64"
      ]
     },
     "execution_count": 36,
     "metadata": {},
     "output_type": "execute_result"
    }
   ],
   "source": [
    "df.isna().sum()"
   ]
  },
  {
   "cell_type": "markdown",
   "id": "91493c6a-17ee-4656-872e-27a92130b29f",
   "metadata": {},
   "source": [
    "Do premennej phone_null_value uložíme tie riadky, ktoré majú hodnotu No pre atribút Phone Service a chýbajúcuce hodnoty v atribúte Multiple Lines a Avg Monthly Long Distance Charges. Funkciu shape slúži na zobrazenie počtu riadku a počtu stĺpcov. Hodnota 0 znamená, že sa zobrazí iba počet riadkov. Následným výpisom vypíšeme počet riadkov."
   ]
  },
  {
   "cell_type": "code",
   "execution_count": 42,
   "id": "df9d6f6c-a502-46aa-a295-a08311167737",
   "metadata": {},
   "outputs": [
    {
     "name": "stdout",
     "output_type": "stream",
     "text": [
      "Počet nulových hodnôt v Multiple Lines a Avg Monthly Long Distance Charges, keď Phone Service == No: 682\n"
     ]
    }
   ],
   "source": [
    "phone_null_value = df[(df['Phone Service'] == 'No') & ((df['Multiple Lines'].isnull())\n",
    "                                                    & (df['Avg Monthly Long Distance Charges'].isnull()))].shape[0]\n",
    "print(\"Počet nulových hodnôt v Multiple Lines a Avg Monthly Long Distance Charges, keď Phone Service == No:\", phone_null_value)"
   ]
  },
  {
   "cell_type": "markdown",
   "id": "34ba2374-fd22-45c3-8703-e61702ce974f",
   "metadata": {},
   "source": [
    "Výpisom tejto hodnoty zisťujeme, že ak je hodnota No pri atribúte Phone Service tak údaje pri atribútoch Multiplane Lines a Avg Monthly Long Distance Charges chýbajú. Preto pomocou funkcie fillna doplníme chýbajúce hodnoty. Musíme ale brať ohľad na dátové typy. Atribút Avg Monthly Long Distance Charges je numerický atribút, ktorý sa týka priemernej spotreby hovorov. Keď telefónnu službu nepoužívali dopĺníme hodnotu 0. Atribút Multiple Lines je kategorický atribút, ktorý sa týka toho, či využívajú viacero telefónnych liniek. Vzhľadom na to, že telefónnu službu nepoužívali dopĺníme chýbajúce hodnoty hodnotou No Phone Service. Parameter inplace zabezpečí, že sa doplnenie chýbajúcich hodnôt aplikuje na pôvodný dataset."
   ]
  },
  {
   "cell_type": "code",
   "execution_count": 6,
   "id": "55add4ba-3b13-4222-a506-bf8e67d4b460",
   "metadata": {},
   "outputs": [],
   "source": [
    "df['Avg Monthly Long Distance Charges'].fillna(0, inplace=True)\n",
    "df['Multiple Lines'].fillna('No Phone Service', inplace=True)"
   ]
  },
  {
   "cell_type": "markdown",
   "id": "0d30c00d-bd2b-4cc4-a156-0f8507dd1313",
   "metadata": {},
   "source": [
    "Opätovným spustením príkazu df.isna().sum() si overíme, či sme úspešne doplnili chýbajúce hodnoty"
   ]
  },
  {
   "cell_type": "code",
   "execution_count": 7,
   "id": "b35905b1-6726-4dc6-8a30-bc82450eccdf",
   "metadata": {
    "tags": []
   },
   "outputs": [
    {
     "data": {
      "text/plain": [
       "Customer ID                             0\n",
       "Gender                                  0\n",
       "Age                                     0\n",
       "Married                                 0\n",
       "Number of Dependents                    0\n",
       "City                                    0\n",
       "Zip Code                                0\n",
       "Latitude                                0\n",
       "Longitude                               0\n",
       "Number of Referrals                     0\n",
       "Tenure in Months                        0\n",
       "Offer                                   0\n",
       "Phone Service                           0\n",
       "Avg Monthly Long Distance Charges       0\n",
       "Multiple Lines                          0\n",
       "Internet Service                        0\n",
       "Internet Type                        1526\n",
       "Avg Monthly GB Download              1526\n",
       "Online Security                      1526\n",
       "Online Backup                        1526\n",
       "Device Protection Plan               1526\n",
       "Premium Tech Support                 1526\n",
       "Streaming TV                         1526\n",
       "Streaming Movies                     1526\n",
       "Streaming Music                      1526\n",
       "Unlimited Data                       1526\n",
       "Contract                                0\n",
       "Paperless Billing                       0\n",
       "Payment Method                          0\n",
       "Monthly Charge                          0\n",
       "Total Charges                           0\n",
       "Total Refunds                           0\n",
       "Total Extra Data Charges                0\n",
       "Total Long Distance Charges             0\n",
       "Total Revenue                           0\n",
       "Customer Status                         0\n",
       "Churn Category                       5174\n",
       "Churn Reason                         5174\n",
       "dtype: int64"
      ]
     },
     "execution_count": 7,
     "metadata": {},
     "output_type": "execute_result"
    }
   ],
   "source": [
    "df.isna().sum()"
   ]
  },
  {
   "cell_type": "markdown",
   "id": "7a83014b-0971-4941-bc07-9e590635a7f8",
   "metadata": {},
   "source": [
    "Ďalšie atribúty, ktoré majú 1526 chýbajúcich hodnôt sa týkajú internetu, preto to vyriešime rovnako ako pri telefónnej službe. Avg Monthly GB Download je kategorický atribút preto pomocou funkcie fillna doplníme 0 vzhľadom na to, že nemôžu mať nejakú spotrebu ak nepoužívajú internet."
   ]
  },
  {
   "cell_type": "code",
   "execution_count": 8,
   "id": "0db52c53-3f2a-4ce2-a1b7-b1d5c7e49fa9",
   "metadata": {},
   "outputs": [],
   "source": [
    "df['Avg Monthly GB Download'].fillna(0, inplace=True)"
   ]
  },
  {
   "cell_type": "markdown",
   "id": "27fa02fe-2646-4e87-b9fc-1b929cb4ca36",
   "metadata": {},
   "source": [
    "Ostatné atribúty kategoriálneho typu uložíme do zoznamu s názvom internet_columns. Pomocou cyklu for, ktorý prejde každý jeden atribút a doplní namiesto chýbajúcej hodnoty hodnotu No Internet Service."
   ]
  },
  {
   "cell_type": "code",
   "execution_count": 9,
   "id": "ad7bb18b-c0b7-4014-8605-323ac6f8c4da",
   "metadata": {
    "tags": []
   },
   "outputs": [],
   "source": [
    "internet_columns = ['Internet Type', 'Online Security', 'Online Backup', 'Device Protection Plan', \n",
    "                    'Premium Tech Support', 'Streaming TV', 'Streaming Movies', 'Streaming Music', \n",
    "                    'Unlimited Data']\n",
    "\n",
    "for column in internet_columns:\n",
    "    df[column].fillna('No Internet Service', inplace=True)"
   ]
  },
  {
   "cell_type": "markdown",
   "id": "b7932d5c-2f1e-4529-821e-e88568197edc",
   "metadata": {},
   "source": [
    "Pomocou funkcie drop odstránime zadané atribúty. Priradením hodnoty 1 pre parameter axis dosiahneme, že sa operácia vykoná na stĺpcoch."
   ]
  },
  {
   "cell_type": "code",
   "execution_count": 10,
   "id": "d79fcdd8-7ff9-4d47-8b29-a878a4f58abf",
   "metadata": {
    "tags": []
   },
   "outputs": [],
   "source": [
    "df.drop(['Churn Category', 'Churn Reason'], axis=1, inplace=True)"
   ]
  },
  {
   "cell_type": "markdown",
   "id": "d1ff145c-fd44-4022-a190-52e613a416e7",
   "metadata": {},
   "source": [
    "Do premennej atributs_with_missing_values uložíme počet atribútov, ktorý obsahujú chýbajúce hodnoty. Funkcia isna().any() vracia atributy, kde sa nachádza aspoň jedna chýbajúca. Doplnením funkcie sum získavame počet atribútov."
   ]
  },
  {
   "cell_type": "code",
   "execution_count": 11,
   "id": "5e16a5bd-0962-4081-b994-eda6bf575986",
   "metadata": {
    "tags": []
   },
   "outputs": [
    {
     "name": "stdout",
     "output_type": "stream",
     "text": [
      "Počet atribútov s chýbajúcimi hodnotami: 0\n"
     ]
    }
   ],
   "source": [
    "atributs_with_missing_values = df.isna().any().sum()\n",
    "print(\"Počet atribútov s chýbajúcimi hodnotami:\", atributs_with_missing_values)"
   ]
  },
  {
   "cell_type": "markdown",
   "id": "7493af24-5c8a-49e8-b49e-45f5ab37b525",
   "metadata": {},
   "source": [
    "Funkcia value_count vypíše hodnoty a ich počet pre zadaný atribút z datasetu."
   ]
  },
  {
   "cell_type": "code",
   "execution_count": 46,
   "id": "603a74cc-c29c-4886-a00f-0cb56d784541",
   "metadata": {},
   "outputs": [
    {
     "data": {
      "text/plain": [
       "Stayed     4720\n",
       "Churned    1869\n",
       "Joined      454\n",
       "Name: Customer Status, dtype: int64"
      ]
     },
     "execution_count": 46,
     "metadata": {},
     "output_type": "execute_result"
    }
   ],
   "source": [
    "df['Customer Status'].value_counts()"
   ]
  },
  {
   "cell_type": "markdown",
   "id": "416b7b44-d6ab-42f5-8334-b87b033c0f84",
   "metadata": {},
   "source": [
    "Vytvoríme cyklus, ktorý bude prechádzať jednotlivé stĺpce. Ak sa dátový typ pre daný stĺpec rovná typu object tak sa na neho použije LabelEncoder, ktorý daný stĺpec pretransformuje na numerický typ. "
   ]
  },
  {
   "cell_type": "code",
   "execution_count": 54,
   "id": "a8d24c77-1cd4-40ce-8f29-ae89dd76ab6b",
   "metadata": {},
   "outputs": [],
   "source": [
    "for column in df.columns:\n",
    "    if df[column].dtype == 'object':\n",
    "        df[column] = LabelEncoder().fit_transform(df[column])"
   ]
  },
  {
   "cell_type": "markdown",
   "id": "edd4f295-0f0f-4832-bda3-c75ce15560e6",
   "metadata": {},
   "source": [
    "Pre overenie vypíšeme počet dátových typov pre jednotlivé dátové typy."
   ]
  },
  {
   "cell_type": "code",
   "execution_count": 55,
   "id": "4560871c-94c1-4013-8a53-c29b4a1a9942",
   "metadata": {},
   "outputs": [
    {
     "data": {
      "text/plain": [
       "int64      29\n",
       "float64     9\n",
       "dtype: int64"
      ]
     },
     "execution_count": 55,
     "metadata": {},
     "output_type": "execute_result"
    }
   ],
   "source": [
    "df.dtypes.value_counts()"
   ]
  },
  {
   "cell_type": "markdown",
   "id": "54158c92-e6dc-44de-915c-99a4741c270d",
   "metadata": {},
   "source": [
    "Pre grafické zobrazenie stavov zákazníkov použijeme countplot z knižnice seaborn. Zadefinujeme mu odkiaľ má použiť dáta, aký atribút ma zobraziť a nastavíme mu farebné sfarbenie. Pomocou pyplot vieme opísať daný graf a to tak, že pomocou title zobrazíme názov grafu a xlabel a ylabel nám opisujú x-ová a y-psilonovú súradnicu. Pomocou show() zobrazíme graf."
   ]
  },
  {
   "cell_type": "code",
   "execution_count": 56,
   "id": "d0f78e51-3327-49ec-b9fa-0e12bd9ad85a",
   "metadata": {},
   "outputs": [
    {
     "data": {
      "image/png": "[encoded data removed]",
      "text/plain": [
       "<Figure size 640x480 with 1 Axes>"
      ]
     },
     "metadata": {},
     "output_type": "display_data"
    }
   ],
   "source": [
    "sns.countplot(data=df, x='Customer Status', palette = 'Set2')\n",
    "plt.title('Početnosť jednotlivých stavov zákazníkov')\n",
    "plt.xlabel('Stav zákazníka')\n",
    "plt.ylabel('Počet')\n",
    "plt.show()"
   ]
  },
  {
   "cell_type": "markdown",
   "id": "78485165-6b18-46d9-854e-c6e135772d1c",
   "metadata": {},
   "source": [
    "Chcem docieliť aby sa zlúčili hodnoty 1 a 2. Definovanujeme funkcie transform_status s jedným argumentom status. Ak sa status rovná 1 alebo 2 tak vráti hodnotu 1. Inak vráti hodnotu 0. "
   ]
  },
  {
   "cell_type": "code",
   "execution_count": 16,
   "id": "912134d8-60e3-437a-838c-180790d42f7f",
   "metadata": {},
   "outputs": [],
   "source": [
    "def transform_status(status):\n",
    "    if status == 1 or status == 2:\n",
    "        return 1\n",
    "    else:\n",
    "        return 0"
   ]
  },
  {
   "cell_type": "markdown",
   "id": "1349e41b-f046-4f39-b88b-764de8930ac4",
   "metadata": {},
   "source": [
    "Na atribút Customer Status aplikujeme túto funkciu pomocou funkcie apply. "
   ]
  },
  {
   "cell_type": "code",
   "execution_count": 59,
   "id": "b9ad45dd-2098-428b-90e3-0d983d1cc12e",
   "metadata": {},
   "outputs": [],
   "source": [
    "df['Customer Status'] = df['Customer Status'].apply(transform_status)"
   ]
  },
  {
   "cell_type": "markdown",
   "id": "d73b4516-d7c9-4cb9-907f-c891ee1812a7",
   "metadata": {},
   "source": [
    "Správnosť funkcie si overíme pomocou value_counts, ktorý vypíše hodnoty a ich počet pre daný atribút"
   ]
  },
  {
   "cell_type": "code",
   "execution_count": 60,
   "id": "690f09fb-a59c-4e65-ab5d-bbf36c7e1a53",
   "metadata": {},
   "outputs": [
    {
     "data": {
      "text/plain": [
       "1    5174\n",
       "0    1869\n",
       "Name: Customer Status, dtype: int64"
      ]
     },
     "execution_count": 60,
     "metadata": {},
     "output_type": "execute_result"
    }
   ],
   "source": [
    "df['Customer Status'].value_counts()"
   ]
  },
  {
   "cell_type": "markdown",
   "id": "da98c755-0282-4aa6-b20c-39eea8e33e06",
   "metadata": {},
   "source": [
    "Využijeme algoritmus K-Means. Ako prvé si do premennej kmeans zadefinujeme počet skupín do ktorých sa majú dáta rozdeliť a zabezpečíme, aby sme dosahovali rovnaké výsledky po opakovanom spustení kódu. Následne pomocou fit natrénujeme model na atribútoch Latitude a Longitude z datasetu. Nakoniec vytvoríme nový stĺpec Location_Group, do ktorého pomocou labels_ priradíme pre každý riadok čísla klastru."
   ]
  },
  {
   "cell_type": "code",
   "execution_count": 61,
   "id": "5ef47e86-9773-4473-840b-e2c640effd2a",
   "metadata": {},
   "outputs": [],
   "source": [
    "kmeans = KMeans(n_clusters=5, random_state=42)\n",
    "kmeans.fit(df[['Latitude', 'Longitude']])\n",
    "df['Location_Group'] = kmeans.labels_"
   ]
  },
  {
   "cell_type": "markdown",
   "id": "781643c1-127f-4d85-b843-41163d57dcb1",
   "metadata": {},
   "source": [
    "Pre grafické ľudí zobrazenie ľudí, ktorí odišli použijeme bodový graf scatter. Nastavíme jeho veľkosť v palcoch pomocou figure. Ako vstupné dáta zadefinujeme riadky Longitude a Latitude ale s tým, že Customer Status sa musí rovnať 0. To zabezpečí, že sa budú brať iba riadky zákazníkov, ktorí odišli. Parameter c bude priradzovať farby bodom na základe ich priradenia čísla klastru. Parameter cmap určuje farebné sfarbenie a parameter s veľkosť bodov v grafe. Pomocou xlabel a ylabel nastavíme popis x-ovej a y-psilovnej osi a title nám nastaví názov grafu. Riadok plt.colorbar(label='Skupina') vytvorí legendu pre zhluky a nastaví jej názov Skupina. Podľa farieb budeme vedieť určiť, ktorý bod predstavuje aký klaster. Pre lepší prehľad zobrazíme mriežku pomocou grid s hodnotou True. Nakonie graf zobrazíme pomocou show()."
   ]
  },
  {
   "cell_type": "code",
   "execution_count": 70,
   "id": "d2d677f9-56ae-4770-a6d5-58915c3d14de",
   "metadata": {},
   "outputs": [
    {
     "data": {
      "image/png": "[encoded data removed]",
      "text/plain": [
       "<Figure size 600x400 with 2 Axes>"
      ]
     },
     "metadata": {},
     "output_type": "display_data"
    }
   ],
   "source": [
    "plt.figure(figsize=(6, 4))\n",
    "plt.scatter(df[df['Customer Status'] == 0]['Longitude'], df[df['Customer Status'] == 0]['Latitude'], \n",
    "            c=df[df['Customer Status'] == 0]['Location_Group'], cmap='viridis', s=20)\n",
    "plt.xlabel('Longitude')\n",
    "plt.ylabel('Latitude')\n",
    "plt.title('Grafické zobrazenie ľudí ktorí odišli')\n",
    "plt.colorbar(label='Skupina')\n",
    "plt.grid(True)  #zobrazenie mriežky\n",
    "plt.show()"
   ]
  },
  {
   "cell_type": "markdown",
   "id": "0181bbe9-459f-410e-b8f1-3426813519ca",
   "metadata": {},
   "source": [
    "Pred modelovaním odstránime stĺpce Customer ID, City, Zip Code, Latitude, Longitude pomocou funkcie drop."
   ]
  },
  {
   "cell_type": "code",
   "execution_count": 72,
   "id": "3f5587d5-bc87-4384-966e-e16e12b97a39",
   "metadata": {},
   "outputs": [],
   "source": [
    "df.drop(['Customer ID', 'City', 'Zip Code', 'Latitude', 'Longitude'], axis=1, inplace=True)"
   ]
  },
  {
   "cell_type": "markdown",
   "id": "6e9a45a0-1cee-47a4-b820-aa8aa675dd61",
   "metadata": {},
   "source": [
    "Pred modelovaním potrebujeme zistiť informačný zisk atribútov vzhľadom k cieľovému atribútu Customer Status a tie, ktoré budú mať vysoký informačný zisk použijeme pri modelovaní. Vytvoríme si premenné X a y. Do premennej X uložíme všetky atribúty okrem Customer Status a do cieľovej premennej y uložíme atribút Customer Status"
   ]
  },
  {
   "cell_type": "code",
   "execution_count": 22,
   "id": "7b0114d6-bf1b-48d2-a818-3d8e20abfa9b",
   "metadata": {},
   "outputs": [],
   "source": [
    "X = df.drop('Customer Status', axis=1)\n",
    "y = df['Customer Status'] "
   ]
  },
  {
   "cell_type": "markdown",
   "id": "771eb8ed-6ca8-4d74-922b-ed6ce9a8e47c",
   "metadata": {},
   "source": [
    "Na získanie informačného zisku vytvoríme model pomocou rozhodovacieho stromu. Ako prvé si importujeme DecisionTreeClassifier z knižnice sklearn. Do premennej iz_model inicializujeme rozhodovací strom, ktorý bude dosahovať rovnaké výsledky. Následne dochádza k trénovaniu modelu na základe premenných X a y, ktoré obsahujú údaje z datasetu. Do premennej atributes uložíme dôležitosť jednotlivých atribútov pomocou feature_importances_. Pre výpis atribútov, ktorý majú väčšiu dôležitosť ako 0,02 použijeme cyklus for, ktorý prejde každý stĺpec v premennej X a ak presahuje túto hranicu tak sa vypíše spolu s jej hodnotou dôležistosti. "
   ]
  },
  {
   "cell_type": "code",
   "execution_count": 23,
   "id": "977fe1f5-3e22-48fa-bb42-9d2416962c0f",
   "metadata": {},
   "outputs": [
    {
     "name": "stdout",
     "output_type": "stream",
     "text": [
      "Age                                : 0.1108\n",
      "Number of Dependents               : 0.0267\n",
      "Number of Referrals                : 0.0805\n",
      "Tenure in Months                   : 0.0542\n",
      "Avg Monthly Long Distance Charges  : 0.0573\n",
      "Avg Monthly GB Download            : 0.0473\n",
      "Contract                           : 0.2059\n",
      "Monthly Charge                     : 0.1016\n",
      "Total Charges                      : 0.0404\n",
      "Total Long Distance Charges        : 0.0533\n",
      "Total Revenue                      : 0.0423\n",
      "Location_Group                     : 0.0262\n"
     ]
    }
   ],
   "source": [
    "from sklearn.tree import DecisionTreeClassifier\n",
    "\n",
    "iz_model = DecisionTreeClassifier(random_state=42)\n",
    "iz_model.fit(X, y)\n",
    "\n",
    "atributes = iz_model.feature_importances_\n",
    "for feature, importance in zip(X.columns, atributes):\n",
    "    if importance > 0.02:\n",
    "        print(f'{feature.ljust(35)}: {importance:.4f}')"
   ]
  },
  {
   "cell_type": "markdown",
   "id": "5a27f1f2-df79-4791-9582-1b6a3d59cf37",
   "metadata": {},
   "source": [
    "Po úprave dát prichádzame k modelovaniu. Na modelovanie budeme potrebovať importovať funkciu train_test_split z knižnice sklearn na rozdelenie datasetu tréningovú a testovaciu sadu. Z knižnice sklearn importujeme funkciu accuracy_score na výpočet presnosti modelov. Ako ďalšie si importujeme algoritmy KNeighborsClassifier, SVC, RandomForestClassifier, AdaBoostClassifier, GaussianNB a LogisticRegression z knižnice sklearn, ktoré budeme potrebovať pri modelovaní. Nakoniec importujeme triedu GridSearchGV, ktorú použijeme na optimalizáciu parametrov. "
   ]
  },
  {
   "cell_type": "markdown",
   "id": "3df182c3-9f25-48e4-94fb-d9d548c807fd",
   "metadata": {},
   "source": [
    "# modelovanie"
   ]
  },
  {
   "cell_type": "code",
   "execution_count": 24,
   "id": "c7c482e3-e020-4b3f-a882-51f681bb99bc",
   "metadata": {},
   "outputs": [],
   "source": [
    "from sklearn.model_selection import train_test_split\n",
    "from sklearn.metrics import accuracy_score\n",
    "\n",
    "from sklearn.neighbors import KNeighborsClassifier\n",
    "from sklearn.svm import SVC\n",
    "from sklearn.ensemble import RandomForestClassifier\n",
    "from sklearn.ensemble import AdaBoostClassifier\n",
    "from sklearn.naive_bayes import GaussianNB\n",
    "from sklearn.linear_model import LogisticRegression\n",
    "\n",
    "from sklearn.model_selection import GridSearchCV"
   ]
  },
  {
   "cell_type": "markdown",
   "id": "88ace665-7921-4a8e-886e-7ecfe2572b02",
   "metadata": {},
   "source": [
    "Pre prácu s dôležitými atribútmi nepotrebujeme ich hodnoty informačného zisku, preto do premennej atributes_for_model uložíme iba názvy atribút bez ich hodnôt. Následným výpisom si overíme správnosť kódu."
   ]
  },
  {
   "cell_type": "code",
   "execution_count": 25,
   "id": "8e00ada7-f242-4d34-b94a-6f02ebd0d6a0",
   "metadata": {},
   "outputs": [
    {
     "data": {
      "text/plain": [
       "['Age',\n",
       " 'Number of Dependents',\n",
       " 'Number of Referrals',\n",
       " 'Tenure in Months',\n",
       " 'Avg Monthly Long Distance Charges',\n",
       " 'Avg Monthly GB Download',\n",
       " 'Contract',\n",
       " 'Monthly Charge',\n",
       " 'Total Charges',\n",
       " 'Total Long Distance Charges',\n",
       " 'Total Revenue',\n",
       " 'Location_Group']"
      ]
     },
     "execution_count": 25,
     "metadata": {},
     "output_type": "execute_result"
    }
   ],
   "source": [
    "atributes_for_model = [feature for feature, importance in zip(X.columns, atributes) if importance > 0.02]\n",
    "atributes_for_model"
   ]
  },
  {
   "cell_type": "markdown",
   "id": "c58d0bf2-703e-4304-ac87-7ae77a35b01d",
   "metadata": {},
   "source": [
    "Pred modelovaním si potrebujeme dáta rozdeliť do tréningovej a testovacej množiny. Zadefinujeme si X a y. X bude obsahovať atribúty, ktoré budú použité na predikciu. Použijeme premennú atributes_for_model, v ktorej sú uložené atribúty s vyššou informačnou hodnotou. Premenná y bude predstavovať cieľovú premennú. Dáta X a y rozdelíme pomocou funkcie train_test_split na tréningovú a testovaciu sadu. Parameter test_size=0.2 určuje, že testovacia sada bude tvoriť 20% a tréningová sada bude tvoriť 80%. Parameter random_state=42 zabezpečí, že budeme dosahovať rovnaké výsledky po opätovnom spustení kódu."
   ]
  },
  {
   "cell_type": "code",
   "execution_count": 26,
   "id": "b42c8daf-fbbd-4cd3-8894-25a4a6384cf6",
   "metadata": {},
   "outputs": [],
   "source": [
    "X = df[atributes_for_model]\n",
    "y = df['Customer Status']\n",
    "X_train, X_test, y_train, y_test = train_test_split(X, y, test_size=0.2, random_state=42)"
   ]
  },
  {
   "cell_type": "markdown",
   "id": "a38b263f-0119-4c04-a96d-41463b9c0e5c",
   "metadata": {},
   "source": [
    "Do premennej modely si uložíme algoritmy, ktoré budeme skúšať pri modelovaní. Bude tvorený z dvojice názvu algoritmu a jeho inštancie. Pri Logistic Regression bolo potrebné doplniť maximálny počet iterácií, ktorý sa upravuje vzhľadom k datasetu. Pre dostávanie rovnakých výsledok je potrebné u SVM, Decision Tree, Random Forest a AdaBoost pridanie random_state=42 pre dosahovanie konzistentných výsledkov."
   ]
  },
  {
   "cell_type": "code",
   "execution_count": 27,
   "id": "273cb9c4-7cd0-4677-a5ab-5895d5c4f604",
   "metadata": {},
   "outputs": [],
   "source": [
    "modely = [\n",
    "    (\"KNN\", KNeighborsClassifier()),\n",
    "    (\"SVM\", SVC(random_state=42)),\n",
    "    (\"Decision Tree\", DecisionTreeClassifier(random_state=42)),\n",
    "    (\"Random Forest\", RandomForestClassifier(random_state=42)),\n",
    "    (\"AdaBoost\", AdaBoostClassifier(random_state=42)),\n",
    "    (\"Gaussian Naive Bayes\", GaussianNB()),\n",
    "    (\"Logistic Regression\", LogisticRegression(max_iter=3500)),\n",
    "]"
   ]
  },
  {
   "cell_type": "markdown",
   "id": "f60e2fda-58f6-4904-aafa-383de4c72539",
   "metadata": {},
   "source": [
    "V tejto časti kódu dôjde k samotnému modelovaniu pomocou jednotlivých algoritmov. Na začiatok vytvoríme prázdny zoznam results, do ktorého sa budú ukladať názvy modelov a ich presnosť. Vytvoríme si cyklus, ktorý prejde každý model v zozname modely. Model sa natrénuje na tréningových dátach v X_train a y_train. Netrénovaný model sa použije na predikovanie hodnôt na testovacích dátach X_test. Do premennej accuracy uložíme vďaka funkcii accuracy_score presnosť modelu porovnaním skutočných hodnôt y_test a predikovaných hodnôt v premennej predictions. Do zoznamu results sa pridá názov modelu a jeho vypočítaná presnosť. Pomocou funkcie sort zoradíme modely podľa ich presnosti v zostupnom poradí. Pre výpis modelov a ich presnosti použijeme cyklus for, ktorý prejde celý zoznam results. Pre krajší výpis sa použije funkcia ljust s hodnotou 20, ktorá zarovná názov modelu naľavo a vyhradí priestor o veľkosti 20 znakov."
   ]
  },
  {
   "cell_type": "code",
   "execution_count": 28,
   "id": "5538d819-b21f-46e6-86c9-7f9f515b7a97",
   "metadata": {},
   "outputs": [
    {
     "name": "stdout",
     "output_type": "stream",
     "text": [
      "Random Forest       : 82.97% úspešnosť\n",
      "AdaBoost            : 82.33% úspešnosť\n",
      "Logistic Regression : 81.48% úspešnosť\n",
      "Decision Tree       : 77.71% úspešnosť\n",
      "KNN                 : 75.59% úspešnosť\n",
      "SVM                 : 73.53% úspešnosť\n",
      "Gaussian Naive Bayes: 72.75% úspešnosť\n"
     ]
    }
   ],
   "source": [
    "results = []\n",
    "for name, model in modely:\n",
    "    model.fit(X_train, y_train)\n",
    "    predictions = model.predict(X_test)\n",
    "    accuracy = accuracy_score(y_test, predictions)\n",
    "    results.append((name, accuracy))\n",
    "\n",
    "results.sort(key=lambda x: x[1], reverse=True)\n",
    "\n",
    "for name, accuracy in results:\n",
    "    print(f\"{name.ljust(20)}: {accuracy * 100:.2f}% úspešnosť\")"
   ]
  },
  {
   "cell_type": "markdown",
   "id": "fec0f28e-04ed-4798-928b-23165958f557",
   "metadata": {},
   "source": [
    "Po zistení najlepších modelov dochádza k ich ladeniu pomocou GridSearchCV. Najprv je potrebné definovanie hyperparametrov, s ktorými sa bude pracovať. Do premennej rf_param_grid uložíme vybrané hyperparametre s hodnotami."
   ]
  },
  {
   "cell_type": "code",
   "execution_count": 29,
   "id": "a59f6d6b-3a05-4a39-a80b-e2c7c2a8c565",
   "metadata": {},
   "outputs": [],
   "source": [
    "rf_param_grid = {\n",
    "    'n_estimators': [118],\n",
    "    'max_depth': [10],\n",
    "    'min_samples_split': [2],\n",
    "    'min_samples_leaf': [5],\n",
    "    'max_features': ['sqrt'],\n",
    "    'criterion': ['entropy']\n",
    "}"
   ]
  },
  {
   "cell_type": "markdown",
   "id": "e80060af-34d2-46b0-8c12-815312228005",
   "metadata": {},
   "source": [
    "Do premennej rf_model vytvoríme inštanciu modelu Random Forest s parametrom random_state=42 pre konzistnetné výsledky. Do premennej rf_grid_search inicializujeme GridSearchSV pre optimalizáciu hyperparametrov modelu. Hyperparameter estimator nastavuje klasifikátor, pre ktorý použijeme rf_model. Druhý hyperparameter param_grid, ktorý definuje zoznam hyperparametrov s ktorými sa bude pracovať. Posledný hyperparameter cv určuje násobnú krížovú validáciu, ktorej priradíme hodnotu 5. \n",
    "Následne vykonáme tréning modelu pomocou GridSearch na tréningových dátach X_train a y_train. Do premennej rf_best_params uložíme najlepšie parametre, ktoré sme našli počas trénovania. Výpisom tejto premennej zistíme najlepšie hodnoty. Do premennej best_rf_model uložíme model s najlepšími hyperparametrami. V premennej y_pred dôjde k predikovaniu hodnôt na testovacích dátach X_test. Presnosť modelu získame pomocou accuracy_score porovnaním skutočných hodnôt y_test a predikovaných hodnôt y_pred. Túto presnosť uložíme do premennej rf_accuracy a následným výpisom zistíme prenosť modelu."
   ]
  },
  {
   "cell_type": "code",
   "execution_count": 30,
   "id": "d7077ec9-09c1-479d-96a7-68a88d6a7be2",
   "metadata": {},
   "outputs": [
    {
     "name": "stdout",
     "output_type": "stream",
     "text": [
      "Najlepšie parametre: {'criterion': 'entropy', 'max_depth': 10, 'max_features': 'sqrt', 'min_samples_leaf': 5, 'min_samples_split': 2, 'n_estimators': 118}\n",
      "Presnosť modelu Random Forest: 0.8417317246273953\n"
     ]
    }
   ],
   "source": [
    "rf_model = RandomForestClassifier(random_state=42)\n",
    "rf_grid_search = GridSearchCV(estimator=rf_model, param_grid=rf_param_grid, cv=5)\n",
    "\n",
    "rf_grid_search.fit(X_train, y_train)\n",
    "\n",
    "rf_best_params = rf_grid_search.best_params_\n",
    "print(\"Najlepšie parametre:\", rf_best_params)\n",
    "\n",
    "best_rf_model = rf_grid_search.best_estimator_\n",
    "y_pred = best_rf_model.predict(X_test)\n",
    "\n",
    "rf_accuracy = accuracy_score(y_test, y_pred)\n",
    "print(\"Presnosť modelu Random Forest:\", rf_accuracy)"
   ]
  },
  {
   "cell_type": "markdown",
   "id": "b530202f-9119-4a09-b5c1-bfb26dd8c3a3",
   "metadata": {},
   "source": [
    "Rovnako ako pri modeli Random Forest budeme postupovať pri modeli AdaBoost. Zadefinujeme si zoznam ab_param_grid, do ktorej uložíme hyperparametre. Do premennej ab_model inicializujeme model AdaBoostClassifier a do premennej ab_grid_search inicializujeme GridSearchCV s rovnakými parametrami a ich hodnotami ako v prípade Random Forest. Pomocou fit dôjde k trénovaniu modelu pomocou GridSearch a do premennej ab_best_params uložíme najlepšie hyperparametre zistené počas trénovania. Následným výpisom zistíme o aké hyperparamtre ide. Do best_ab_model sme uložili model s najlepšími hyperparametrami pomocou funkcie best_estimator_. Tento model použijeme na predikovanie hodnôt na testovacích dáta X_test, ktorý sa uloží do premennej y_pred. Pomocou funkcie accuracy_score vyhodnotíme presnosť porovnaním skutočných hodnôt a predikovancýh hodnôt. Výsledok uložíme do premennej ab_accuracy a výpisom zistíme danú presnosť."
   ]
  },
  {
   "cell_type": "code",
   "execution_count": 31,
   "id": "bd9624b0-9600-491d-9775-8cfb60fb164b",
   "metadata": {},
   "outputs": [
    {
     "name": "stdout",
     "output_type": "stream",
     "text": [
      "Najlepšie parametre: {'learning_rate': 0.45, 'n_estimators': 50}\n",
      "Presnosť modelu AdaBoost: 0.837473385379702\n"
     ]
    }
   ],
   "source": [
    "ab_param_grid = {\n",
    "    'n_estimators': [50],\n",
    "    'learning_rate': [0.45],\n",
    "}\n",
    "\n",
    "ab_model = AdaBoostClassifier()\n",
    "ab_grid_search = GridSearchCV(estimator=ab_model, param_grid=ab_param_grid, cv=5)\n",
    "\n",
    "ab_grid_search.fit(X_train, y_train)\n",
    "\n",
    "ab_best_params = ab_grid_search.best_params_\n",
    "print(\"Najlepšie parametre:\", ab_best_params)\n",
    "\n",
    "best_ab_model = ab_grid_search.best_estimator_\n",
    "y_pred = best_ab_model.predict(X_test)\n",
    "\n",
    "ab_accuracy = accuracy_score(y_test, y_pred)\n",
    "print(\"Presnosť modelu AdaBoost:\", ab_accuracy)"
   ]
  },
  {
   "cell_type": "markdown",
   "id": "56eb2a7e-ba62-420a-b33a-cc3a77a3935f",
   "metadata": {},
   "source": [
    "Pre porovnanie uskutočníme výpis presností pre jeden aj druhý model."
   ]
  },
  {
   "cell_type": "code",
   "execution_count": 32,
   "id": "9769929b-afb2-42d1-8568-04a268116d21",
   "metadata": {},
   "outputs": [
    {
     "name": "stdout",
     "output_type": "stream",
     "text": [
      "Presnosť modelu Logistickej regresie:, 84.17%\n",
      "Presnosť modelu AdaBoost:, 83.75%\n"
     ]
    }
   ],
   "source": [
    "print(f\"Presnosť modelu Logistickej regresie:, {rf_accuracy * 100:.2f}%\")\n",
    "print(f\"Presnosť modelu AdaBoost:, {ab_accuracy * 100:.2f}%\")"
   ]
  },
  {
   "cell_type": "code",
   "execution_count": null,
   "id": "4ad574c2-1f88-4642-b463-2778abbdee41",
   "metadata": {},
   "outputs": [],
   "source": []
  }
 ],
 "metadata": {
  "kernelspec": {
   "display_name": "Python 3 (ipykernel)",
   "language": "python",
   "name": "python3"
  },
  "language_info": {
   "codemirror_mode": {
    "name": "ipython",
    "version": 3
   },
   "file_extension": ".py",
   "mimetype": "text/x-python",
   "name": "python",
   "nbconvert_exporter": "python",
   "pygments_lexer": "ipython3",
   "version": "3.10.6"
  }
 },
 "nbformat": 4,
 "nbformat_minor": 5
}
